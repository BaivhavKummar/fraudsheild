# 1_eda.ipynb - Exploratory Data Analysis for FraudShield

import pandas as pd
import matplotlib.pyplot as plt
import seaborn as sns

# Load dataset (use your path here)
df = pd.read_csv("../data/merged_creditcard.csv")

# Basic info
print("Shape:", df.shape)
df.info()
df.describe()

# Class distribution
sns.countplot(data=df, x='Class')
plt.title("Fraud vs Non-Fraud")
plt.show()

# Correlation heatmap
plt.figure(figsize=(12, 8))
sns.heatmap(df.corr(numeric_only=True), cmap="coolwarm", annot=False)
plt.title("Correlation Heatmap")
plt.show()

# Distribution of Amount
plt.figure(figsize=(10, 4))
sns.histplot(df['Amount'], bins=100, kde=True)
plt.title("Transaction Amount Distribution")
plt.show()

# Box plot of Amount by Class
sns.boxplot(x='Class', y='Amount', data=df)
plt.title("Amount by Class")
plt.show()

# Optional: Time column trend
if 'Time' in df.columns:
    df['Hour'] = (df['Time'] // 3600) % 24
    sns.countplot(x='Hour', hue='Class', data=df)
    plt.title("Fraud/Non-Fraud by Hour")
    plt.show()
